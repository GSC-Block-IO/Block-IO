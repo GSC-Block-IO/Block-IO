{
 "cells": [
  {
   "cell_type": "code",
   "execution_count": 1,
   "id": "a02d7dca",
   "metadata": {},
   "outputs": [],
   "source": [
    "import pandas as pd\n",
    "import numpy as np\n",
    "import matplotlib.pyplot as plt"
   ]
  },
  {
   "cell_type": "code",
   "execution_count": 2,
   "id": "dbdaf01f",
   "metadata": {},
   "outputs": [
    {
     "data": {
      "text/plain": [
       "'C:\\\\Users\\\\user\\\\Desktop\\\\DS_ysp\\\\pr\\\\W_L\\\\b'"
      ]
     },
     "execution_count": 2,
     "metadata": {},
     "output_type": "execute_result"
    }
   ],
   "source": [
    "%pwd"
   ]
  },
  {
   "cell_type": "code",
   "execution_count": 3,
   "id": "1602ed24",
   "metadata": {},
   "outputs": [
    {
     "name": "stdout",
     "output_type": "stream",
     "text": [
      "dp_usr_0 결측 \n",
      "Type            0\n",
      "Offset          0\n",
      "Size            0\n",
      "ResponseTime    0\n",
      "dtype: int64\n",
      "dp_usr_1 결측 \n",
      "Type            0\n",
      "Offset          0\n",
      "Size            0\n",
      "ResponseTime    0\n",
      "dtype: int64\n",
      "dp_usr_2 결측 \n",
      "Type            0\n",
      "Offset          0\n",
      "Size            0\n",
      "ResponseTime    0\n",
      "dtype: int64\n",
      "dp_prxy_0 결측 \n",
      "Type            0\n",
      "Offset          0\n",
      "Size            0\n",
      "ResponseTime    0\n",
      "dtype: int64\n",
      "dp_prxy_1 결측 \n",
      "Type            0\n",
      "Offset          0\n",
      "Size            0\n",
      "ResponseTime    0\n",
      "dtype: int64\n",
      "dp_src1_0 결측 \n",
      "Type            0\n",
      "Offset          0\n",
      "Size            0\n",
      "ResponseTime    0\n",
      "dtype: int64\n",
      "dp_src1_1 결측 \n",
      "Type            0\n",
      "Offset          0\n",
      "Size            0\n",
      "ResponseTime    0\n",
      "dtype: int64\n",
      "dp_src1_2 결측 \n",
      "Type            0\n",
      "Offset          0\n",
      "Size            0\n",
      "ResponseTime    0\n",
      "dtype: int64\n",
      "dp_src2_0 결측 \n",
      "Type            0\n",
      "Offset          0\n",
      "Size            0\n",
      "ResponseTime    0\n",
      "dtype: int64\n",
      "dp_src2_1 결측 \n",
      "Type            0\n",
      "Offset          0\n",
      "Size            0\n",
      "ResponseTime    0\n",
      "dtype: int64\n",
      "dp_src2_2 결측 \n",
      "Type            0\n",
      "Offset          0\n",
      "Size            0\n",
      "ResponseTime    0\n",
      "dtype: int64\n"
     ]
    }
   ],
   "source": [
    "a_l = ['usr_0', 'usr_1', 'usr_2', 'prxy_0', 'prxy_1', 'src1_0', 'src1_1', 'src1_2', 'src2_0', 'src2_1', 'src2_2']\n",
    "# a_l = ['hm_0', 'hm_1', 'prn_0', 'prn_1', 'stg_0', 'stg_1', 'ts_0']\n",
    "\n",
    "u3_col = ['Type', 'Offset', 'Size']\n",
    "dp_col = ['Type', 'Offset', 'Size', 'ResponseTime']\n",
    "\n",
    "for i in a_l:\n",
    "    tt_df = pd.read_csv(f'./dp_{i}.csv',names=dp_col)\n",
    "    print(f'dp_{i} 결측 ')\n",
    "    print(tt_df.isnull().sum())"
   ]
  },
  {
   "cell_type": "code",
   "execution_count": 4,
   "id": "d67d890c",
   "metadata": {},
   "outputs": [
    {
     "name": "stdout",
     "output_type": "stream",
     "text": [
      "dp_usr_0   중복 row :    3102,   u3_usr_0   중복 row :   54609,   두개의 차이 =   51507\n",
      "dp_usr_1   중복 row :    3904,   u3_usr_1   중복 row :   22438,   두개의 차이 =   18534\n",
      "dp_usr_2   중복 row :    1926,   u3_usr_2   중복 row :   14598,   두개의 차이 =   12672\n",
      "dp_prxy_0  중복 row :   13913,   u3_prxy_0  중복 row :   88438,   두개의 차이 =   74525\n",
      "dp_prxy_1  중복 row :    8529,   u3_prxy_1  중복 row :   83297,   두개의 차이 =   74768\n",
      "dp_src1_0  중복 row :      13,   u3_src1_0  중복 row :     422,   두개의 차이 =     409\n",
      "dp_src1_1  중복 row :    2301,   u3_src1_1  중복 row :    6514,   두개의 차이 =    4213\n",
      "dp_src1_2  중복 row :   13724,   u3_src1_2  중복 row :   45178,   두개의 차이 =   31454\n",
      "dp_src2_0  중복 row :   56095,   u3_src2_0  중복 row :   85474,   두개의 차이 =   29379\n",
      "dp_src2_1  중복 row :     379,   u3_src2_1  중복 row :    8913,   두개의 차이 =    8534\n",
      "dp_src2_2  중복 row :    3879,   u3_src2_2  중복 row :    9165,   두개의 차이 =    5286\n"
     ]
    }
   ],
   "source": [
    "for i in a_l:\n",
    "    dp_df = pd.read_csv(f'./dp_{i}.csv',names=dp_col)\n",
    "    u3_df = dp_df.drop(labels='ResponseTime', axis=1)\n",
    "    x = dp_df.duplicated().sum()\n",
    "    y = u3_df.duplicated().sum()\n",
    "    print(f'dp_{i:7} 중복 row : {x:7},   u3_{i:7} 중복 row : {y:7},   두개의 차이 = {y-x:7}', end='\\n')"
   ]
  },
  {
   "cell_type": "markdown",
   "id": "711fd20e",
   "metadata": {},
   "source": [
    "'ResponseTime' 의 경우 스토리지의 상태에 따라 반응 속도의 차이가 있을 수 있기에 같은 'Offset'에서의 호출인지 확인 하기 위해 'Type', 'Offset', 'Size'만을 사용하여 평가\n",
    "\n",
    "dp의 경우 'ResponseTime'를 삭제 하지 않아 스토리지의 상태에 따른 차이로 인해 원하는 결과를 얻지 못하는 문제가 발생 'ResponseTime'을 제거한 u3을 이용 하여 원하는 결과 도출 u3와 dp의 비교로 전처리에 따른 결과를 표현 가능\n",
    "\n",
    "스토리지 상태에 따라 같은 'Offset'을 불러들여져 와도 'ResponseTime'은 다를 가능성이 높음"
   ]
  },
  {
   "cell_type": "code",
   "execution_count": 19,
   "id": "68e4698f",
   "metadata": {},
   "outputs": [],
   "source": [
    "#1.\n",
    "\n",
    "for i in a_l:\n",
    "    tt_df = pd.read_csv(f'./dp_{i}.csv',names=dp_col)\n",
    "    tt_df = tt_df.drop(labels='ResponseTime', axis=1)\n",
    "    \n",
    "    ratio = tt_df.Type.value_counts()\n",
    "    labels = tt_df.Type.value_counts().index\n",
    "    plt.pie(ratio, labels=labels, autopct='%.1f%%', startangle=90, counterclock=False)\n",
    "    plt.title(f'{i} I/O Ratio')\n",
    "    plt.gcf().subplots_adjust(bottom=0.20)\n",
    "#     plt.show()\n",
    "    plt.savefig(f'1 {i}', bbox_inches = 'tight')\n",
    "    plt.close()"
   ]
  },
  {
   "cell_type": "code",
   "execution_count": 43,
   "id": "f1321988",
   "metadata": {
    "scrolled": true
   },
   "outputs": [],
   "source": [
    "# # 1. -2\n",
    "# from sklearn.preprocessing import LabelEncoder\n",
    "\n",
    "\n",
    "# def lab_pd(df):\n",
    "#     le = LabelEncoder()\n",
    "#     le.fit(df)\n",
    "#     return le.transform(df)\n",
    "\n",
    "# f_l = ['ts_0', 'usr_0', 'stg_0', 'stg_1', 'rsrch_0', 'hm_1', 'hm_0']\n",
    "# col = ['Timestamp', 'Hostname', 'DiskNumber', 'Type', 'Offset', 'Size', 'ResponseTime']\n",
    "\n",
    "# for i in f_l:\n",
    "#     tt_df = pd.read_csv(f'./{i}.csv',names=col)\n",
    "#     tt_df = tt_df.iloc[:, 3:6]\n",
    "#     tt_df['Type'] = lab_pd(tt_df['Type'])\n",
    "    \n",
    "#     ratio = tt_df.Type.value_counts()\n",
    "#     labels = tt_df.Type.value_counts().index\n",
    "#     plt.pie(ratio, labels=labels, autopct='%.2f%%', startangle=90, counterclock=False)\n",
    "#     plt.title(f'{i} I/O Ratio')\n",
    "# #     plt.show()\n",
    "#     plt.savefig(f'1-2 {i}', bbox_inches = 'tight')\n",
    "#     plt.close()\n"
   ]
  },
  {
   "cell_type": "code",
   "execution_count": 22,
   "id": "d244f201",
   "metadata": {},
   "outputs": [],
   "source": [
    "# 2. -1\n",
    "\n",
    "import seaborn as sns\n",
    "\n",
    "sns.set_style('darkgrid')\n",
    "\n",
    "import math\n",
    "\n",
    "def offset_log(x):\n",
    "    return math.log(x, 2)\n",
    "\n",
    "for i in a_l:\n",
    "    tt_df = pd.read_csv(f'./dp_{i}.csv',names=dp_col)\n",
    "    tt_df = tt_df.drop(labels='ResponseTime', axis=1)\n",
    "\n",
    "    \n",
    "    xx = tt_df.Offset.value_counts()\n",
    "    df_f = xx.rename('Frequency').reset_index()\n",
    "    df_f = df_f.rename(columns={'index':'Offset'})\n",
    "\n",
    "    df_f_min = df_f.Offset.min()\n",
    "    df_f_max = df_f.Offset.max()\n",
    "    df_f_min = math.log(df_f_min, 2)\n",
    "    df_f_max = math.log(df_f_max, 2)\n",
    "    \n",
    "    df_f['Offset_log'] = df_f.Offset.apply(offset_log)\n",
    "\n",
    "#     print(f'u3_{i:10}  : ', end='\\n')\n",
    "    sns.scatterplot(data=df_f, x='Offset', y='Frequency')\n",
    "#     sns.scatterplot(data=df_f, x='Offset_log', y='Frequency')\n",
    "#     plt.xlim([df_f_min, df_f_max])\n",
    "    plt.gca().axes.xaxis.set_visible(False)\n",
    "    plt.title(f'{i}')\n",
    "#     plt.show()\n",
    "    plt.savefig(f'2 -1 {i}', bbox_inches = 'tight')\n",
    "    plt.close()"
   ]
  },
  {
   "cell_type": "code",
   "execution_count": 42,
   "id": "a8e0b3bb",
   "metadata": {},
   "outputs": [],
   "source": [
    "# 2. -2\n",
    "for i in a_l:\n",
    "    tt_df = pd.read_csv(f'./dp_{i}.csv',names=dp_col)\n",
    "    tt_df = tt_df.drop(labels='ResponseTime', axis=1)\n",
    "    x = tt_df.Offset.value_counts().loc[lambda x : x > 600]\n",
    "\n",
    "\n",
    "    \n",
    "#     plt.pie(\n",
    "#         tt_df.Offset.value_counts(),\n",
    "#         startangle=90,\n",
    "#         counterclock=False\n",
    "#     )  \n",
    "    \n",
    "    \n",
    "    \n",
    "    plt.pie(\n",
    "        x,\n",
    "        startangle=90,\n",
    "        counterclock=False\n",
    "    ) \n",
    "\n",
    "    plt.title(f'Ratio of Frequency in {i}')\n",
    "#     plt.show()\n",
    "    plt.savefig(f'2 {i}', bbox_inches = 'tight')\n",
    "    plt.close()"
   ]
  },
  {
   "cell_type": "code",
   "execution_count": 24,
   "id": "094319f4",
   "metadata": {},
   "outputs": [],
   "source": [
    "# 2. -3\n",
    "for i in a_l:\n",
    "    tt_df = pd.read_csv(f'./dp_{i}.csv',names=dp_col)\n",
    "    tt_df = tt_df.drop(labels='ResponseTime', axis=1)\n",
    "    \n",
    "    \n",
    "    topn = 100\n",
    "    total = tt_df.Offset.value_counts().values.sum()\n",
    "    top = tt_df.Offset.value_counts().head(topn).values.sum()\n",
    "    etc = total - top\n",
    "    plt.pie([top, etc], labels=[f'Top{topn}', 'etc'], autopct='%.2f%%', startangle=90, counterclock=False)\n",
    "    plt.title(f'Ratio of Frequency in {i}')\n",
    "#     plt.show()\n",
    "    plt.savefig(f'2 -3 {i}', bbox_inches = 'tight')\n",
    "    plt.close()"
   ]
  },
  {
   "cell_type": "code",
   "execution_count": null,
   "id": "82aeb494",
   "metadata": {},
   "outputs": [],
   "source": []
  },
  {
   "cell_type": "code",
   "execution_count": null,
   "id": "42ad746a",
   "metadata": {},
   "outputs": [],
   "source": []
  }
 ],
 "metadata": {
  "kernelspec": {
   "display_name": "Python 3 (ipykernel)",
   "language": "python",
   "name": "python3"
  },
  "language_info": {
   "codemirror_mode": {
    "name": "ipython",
    "version": 3
   },
   "file_extension": ".py",
   "mimetype": "text/x-python",
   "name": "python",
   "nbconvert_exporter": "python",
   "pygments_lexer": "ipython3",
   "version": "3.9.13"
  }
 },
 "nbformat": 4,
 "nbformat_minor": 5
}
